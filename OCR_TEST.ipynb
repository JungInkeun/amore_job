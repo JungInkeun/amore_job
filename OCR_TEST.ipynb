{
 "cells": [
  {
   "cell_type": "code",
   "execution_count": 2,
   "metadata": {},
   "outputs": [],
   "source": [
    "from PIL import Image\n",
    "import pytesseract"
   ]
  },
  {
   "cell_type": "code",
   "execution_count": 3,
   "metadata": {},
   "outputs": [],
   "source": [
    "pytesseract.pytesseract.tesseract_cmd=r'C:/Program Files/Tesseract-OCR/tesseract'"
   ]
  },
  {
   "cell_type": "code",
   "execution_count": 4,
   "metadata": {},
   "outputs": [
    {
     "name": "stdout",
     "output_type": "stream",
     "text": [
      "Detail How to Use Ingredients ‘About the Brand ‘Shipping & Returns\n",
      "\n",
      " \n",
      "\n",
      "‘What it is: A powerful serum that significantly helps reduce the look of aging,\n",
      "\n",
      "Skin Type: Normal, Dry, Combination, and Oily\n",
      "\n",
      "Skincare Concerns: Fine Lines and Wrinkles, Dryness, and Dullness and Uneven Texture\n",
      "Formulation: Serum\n",
      "\n",
      "Ingredient Callouts: This product contains less than one percent of synthetic fragrances\n",
      "It's also dermatologist and ophthalmologist-tested and non-acnegenic.\n",
      "\n",
      "What Else You Need to Know: Advanced Night Repair Synchronized Recovery Complex\n",
      "II hydrates and adds radiance for more youthful-looking skin. This powerful nighttime\n",
      "renewal uses Exclusive ChronoluxCB™ Technology to significantly reduce the look of key\n",
      "signs of aging.\n",
      "\n",
      "Clinical Results: After 4 weeks of using Advanced Night Repair Synchronized Recovery\n",
      "Complex II:\n",
      "\n",
      "- 75% agreed their skin looked more youthful\n",
      "\n",
      "- 75% agreed their skin feels smoother, hydrated, and stronger\n",
      "\n",
      "- 82% agreed their skin was more radiant and evenly toned\n",
      "\n",
      "- 83% agreed their skin looked healthier and fresher\n"
     ]
    }
   ],
   "source": [
    "print(pytesseract.image_to_string('./data/testocr.png'))"
   ]
  },
  {
   "cell_type": "code",
   "execution_count": 5,
   "metadata": {},
   "outputs": [
    {
     "data": {
      "text/plain": [
       "\"Detail How to Use Ingredients ‘About the Brand ‘Shipping & Returns\\n\\n \\n\\n‘What it is: A powerful serum that significantly helps reduce the look of aging,\\n\\nSkin Type: Normal, Dry, Combination, and Oily\\n\\nSkincare Concerns: Fine Lines and Wrinkles, Dryness, and Dullness and Uneven Texture\\nFormulation: Serum\\n\\nIngredient Callouts: This product contains less than one percent of synthetic fragrances\\nIt's also dermatologist and ophthalmologist-tested and non-acnegenic.\\n\\nWhat Else You Need to Know: Advanced Night Repair Synchronized Recovery Complex\\nII hydrates and adds radiance for more youthful-looking skin. This powerful nighttime\\nrenewal uses Exclusive ChronoluxCB™ Technology to significantly reduce the look of key\\nsigns of aging.\\n\\nClinical Results: After 4 weeks of using Advanced Night Repair Synchronized Recovery\\nComplex II:\\n\\n- 75% agreed their skin looked more youthful\\n\\n- 75% agreed their skin feels smoother, hydrated, and stronger\\n\\n- 82% agreed their skin was more radiant and evenly toned\\n\\n- 83% agreed their skin looked healthier and fresher\""
      ]
     },
     "execution_count": 5,
     "metadata": {},
     "output_type": "execute_result"
    }
   ],
   "source": [
    "result = pytesseract.image_to_string('./data/testocr.png')\n",
    "result"
   ]
  },
  {
   "cell_type": "code",
   "execution_count": 6,
   "metadata": {},
   "outputs": [
    {
     "data": {
      "text/plain": [
       "str"
      ]
     },
     "execution_count": 6,
     "metadata": {},
     "output_type": "execute_result"
    }
   ],
   "source": [
    "type(result)"
   ]
  },
  {
   "cell_type": "code",
   "execution_count": 9,
   "metadata": {
    "scrolled": true
   },
   "outputs": [
    {
     "data": {
      "text/plain": [
       "'한을 어린쑥 수분진정 크림\\n\\n터6피누01. 2016 4다6001518 8100108 \\\\816『「 07680\\n\\n \\n\\n#1등진정크림*\\n꾸준한 사랑으로 편안한 수분진정을 전하는\\n어린쑥 수분진정크림,\\n\\n \\n\\n#하루종일 _수분장벽_진정보호\\n\\n \\n\\n한 번 무너지면 걷잡을 수 없는 피부 속 수분장벽을 일시적으\\n회복시켜 줄 뿐만 아니라, 24시간동안 수분장벽을 보호해 줍니다.\\n\\n \\n\\n타도 모르 손태서 손상된 열쿨\\n\\n@ 얼 받이서 일시적으로 붉어진 얼굴              1\\n@ 잘 인맛는 희장품 성분으로 지극받\\n\\n프\\n즈  = 려\\n\\n \\n\\n0\\n뜨\\n뜨\\n[포\\nㅠㅠ\\n미\\n을\\n그\\n따\\n내\\n\\n는 및                     용원료로써\\n에 전달하려는 한율의 진심0  | 담겨 있습니다.\\n\\n \\n\\n자연에서 찾아, 한을이 특별하게 추출한\\n\\n어린쑥 강화수의 이로운 효능\\n\\n \\n\\n”\\n:                     6\\nㅠㅠ. ^\\n수분 공급                   부 정화         유해 환경에 자극받은\\n\\n피부 진정\\n\\n \\n\\n꽂\\n기존 어린쑥 수분진정 크림 대비\\n진정효능성분 2배 함유로 끄쑥진정\\n\\n \\n\\n805 수분진정 크림“\\n\\n파라벤을 비롯한 8가지 으 포함하지 않은 포뮬러\\n\\n* 동물성 원료 / 광물성 오일 / 폴리아크릴아마이드 / 합성색소 /\\n이미다졸리디닐우레아 / 비빈  탄올아민 066 계면활성제 / 파라벤\\n\\n민감성 패널 테스트 / 피부과 테스트 /\\n하이포 알러지 테스트 완료'"
      ]
     },
     "execution_count": 9,
     "metadata": {},
     "output_type": "execute_result"
    }
   ],
   "source": [
    "result_kor=pytesseract.image_to_string('./data/kor_ocr_test.jpg', lang='kor')\n",
    "result_kor"
   ]
  },
  {
   "cell_type": "code",
   "execution_count": 10,
   "metadata": {},
   "outputs": [
    {
     "data": {
      "text/plain": [
       "str"
      ]
     },
     "execution_count": 10,
     "metadata": {},
     "output_type": "execute_result"
    }
   ],
   "source": [
    "type(result_kor)"
   ]
  },
  {
   "cell_type": "code",
   "execution_count": 18,
   "metadata": {},
   "outputs": [
    {
     "name": "stdout",
     "output_type": "stream",
     "text": [
      "['한을 어린쑥 수분진정 크림', '터6피누01. 2016 4다6001518 8100108 \\\\816『「 07680', '#1등진정크림*', '꾸준한 사랑으로 편안한 수분진정을 전하는', '어린쑥 수분진정크림,', '#하루종일 _수분장벽_진정보호', '한 번 무너지면 걷잡을 수 없는 피부 속 수분장벽을 일시적으', '회복시켜 줄 뿐만 아니라, 24시간동안 수분장벽을 보호해 줍니다.', '타도 모르 손태서 손상된 열쿨', '@ 얼 받이서 일시적으로 붉어진 얼굴              1', '@ 잘 인맛는 희장품 성분으로 지극받', '프', '즈  = 려', '0', '뜨', '뜨', '[포', 'ㅠㅠ', '미', '을', '그', '따', '내', '는 및                     용원료로써', '에 전달하려는 한율의 진심0  | 담겨 있습니다.', '자연에서 찾아, 한을이 특별하게 추출한', '어린쑥 강화수의 이로운 효능', '”', ':                     6', 'ㅠㅠ. ^', '수분 공급                   부 정화         유해 환경에 자극받은', '피부 진정', '꽂', '기존 어린쑥 수분진정 크림 대비', '진정효능성분 2배 함유로 끄쑥진정', '805 수분진정 크림“', '파라벤을 비롯한 8가지 으 포함하지 않은 포뮬러', '* 동물성 원료 / 광물성 오일 / 폴리아크릴아마이드 / 합성색소 /', '이미다졸리디닐우레아 / 비빈  탄올아민 066 계면활성제 / 파라벤', '민감성 패널 테스트 / 피부과 테스트 /', '하이포 알러지 테스트 완료']\n"
     ]
    }
   ],
   "source": [
    "split_texts = result_kor.split('\\n')\n",
    "texts =[]\n",
    "for text in split_texts:\n",
    "    if text != '' and text != ' ':\n",
    "        texts.append(text)\n",
    "    else:\n",
    "        continue\n",
    "        \n",
    "print(texts)"
   ]
  },
  {
   "cell_type": "code",
   "execution_count": 31,
   "metadata": {},
   "outputs": [
    {
     "data": {
      "text/plain": [
       "'터피누다'"
      ]
     },
     "execution_count": 31,
     "metadata": {},
     "output_type": "execute_result"
    }
   ],
   "source": [
    "import re\n",
    "\n",
    "tmp=\"\".join(re.compile('[가-힣]+').findall(texts[1]))\n",
    "tmp"
   ]
  }
 ],
 "metadata": {
  "kernelspec": {
   "display_name": "Python 3",
   "language": "python",
   "name": "python3"
  },
  "language_info": {
   "codemirror_mode": {
    "name": "ipython",
    "version": 3
   },
   "file_extension": ".py",
   "mimetype": "text/x-python",
   "name": "python",
   "nbconvert_exporter": "python",
   "pygments_lexer": "ipython3",
   "version": "3.7.6"
  }
 },
 "nbformat": 4,
 "nbformat_minor": 4
}
